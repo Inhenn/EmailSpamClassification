{
 "cells": [
  {
   "cell_type": "markdown",
   "metadata": {},
   "source": [
    "# Problem 2"
   ]
  },
  {
   "cell_type": "code",
   "execution_count": 684,
   "metadata": {
    "collapsed": true
   },
   "outputs": [],
   "source": [
    "import pandas as pd\n",
    "import numpy as np\n",
    "from numpy import dot\n",
    "from math import gamma,factorial,log,exp\n",
    "import matplotlib.pyplot as plt\n",
    "\n",
    "from numpy.linalg import inv"
   ]
  },
  {
   "cell_type": "code",
   "execution_count": 667,
   "metadata": {
    "collapsed": true
   },
   "outputs": [],
   "source": [
    "X_df=pd.read_csv('X.csv',header=-1)\n",
    "y_df=pd.read_csv('y.csv',header=-1)\n",
    "X_nm=[\"X\"+str(x)for x in X_df.columns]\n",
    "X_df.columns=X_nm\n",
    "y_df.columns=['y']\n",
    "df=pd.concat([X_df,y_df],axis=1)"
   ]
  },
  {
   "cell_type": "code",
   "execution_count": 594,
   "metadata": {
    "collapsed": true
   },
   "outputs": [],
   "source": [
    "def split(df,kf,std=None):\n",
    "#     df is global\n",
    "    \n",
    "    perm=np.random.permutation(df.index.values)\n",
    "    len_p=len(perm)\n",
    "    idx_ls=[]\n",
    "    left=0\n",
    "    right=0\n",
    "    for i in range(1,kf+1):\n",
    "        left=int((i-1)/kf*len_p)\n",
    "        right=int(i/kf*len_p)     \n",
    "        idx_ls.append(perm[left:right])\n",
    "    train_test=[]\n",
    "    for i in range(kf):\n",
    "        df2=df.copy()\n",
    "\n",
    "        train_ls=[]\n",
    "        for j in range(kf):\n",
    "            if j!=i:\n",
    "                train_ls.extend(idx_ls[j])\n",
    "        train=df2.loc[train_ls,:].copy()\n",
    "        test=df2.loc[idx_ls[i],:].copy()\n",
    "        if std==1:\n",
    "            for x in df.columns:\n",
    "                if x!='y':\n",
    "                    df2[x]=(df2[x]-train[x].mean())/train[x].std()\n",
    "        X_test=df2.loc[idx_ls[i],X_nm].copy()\n",
    "        y_test=df2.loc[idx_ls[i],'y'].copy()\n",
    "        train=df2.loc[train_ls,:].copy()\n",
    "        test=df2.loc[idx_ls[i],:].copy()\n",
    "        print()\n",
    "        X_train=df2.loc[train_ls,X_nm].copy()\n",
    "        y_train=df2.loc[train_ls,'y'].copy()\n",
    "\n",
    "        train_test.append([X_train,y_train,X_test,y_test,\n",
    "                           train.reset_index().drop('index',axis=1),test.reset_index().drop('index',axis=1)])\n",
    "    return train_test"
   ]
  },
  {
   "cell_type": "code",
   "execution_count": 292,
   "metadata": {
    "collapsed": true
   },
   "outputs": [],
   "source": [
    "def get_lambda(train):\n",
    "    y1_train=train.loc[(train['y']==1),X_nm]\n",
    "    y0_train=train.loc[(train['y']==0),X_nm]\n",
    "    l_ls=[]\n",
    "    len1=len(y1_train)\n",
    "    len0=len(y0_train)\n",
    "    l0=[(s+1)/(1+len0) for s in y0_train.sum().values]\n",
    "    l1=[(s+1)/(1+len1) for s in y1_train.sum().values]\n",
    "    return l0,l1"
   ]
  },
  {
   "cell_type": "code",
   "execution_count": 525,
   "metadata": {
    "collapsed": true
   },
   "outputs": [],
   "source": [
    "def get_pred(train,test):\n",
    "    global lambdalist\n",
    "    l0,l1=get_lambda(train)\n",
    "    lambdalist.append([l0,l1])\n",
    "    pred_ls=[]\n",
    "    n,D=test.shape\n",
    "    for i in range(n):\n",
    "        x_ls=test.iloc[i].values\n",
    "        prob1=log(pi)+sum([log(lambda_d)-lambda_d-log(gamma(2))+\n",
    "                   (-log(lambda_d)+x_ls[d]*log(lambda_d)-log(factorial(x_ls[d]))) for lambda_d,d in zip(l1,range(D))])\n",
    "        prob0=log(1-pi)+sum([log(lambda_d)-lambda_d-log(gamma(2))+\n",
    "                   (-log(lambda_d)+x_ls[d]*log(lambda_d)-log(factorial(x_ls[d]))) for lambda_d,d in zip(l0,range(D))])\n",
    "        if prob1>prob0:\n",
    "            pred_ls.append(1) \n",
    "        else:\n",
    "            pred_ls.append(0) \n",
    "    return pred_ls"
   ]
  },
  {
   "cell_type": "code",
   "execution_count": 335,
   "metadata": {
    "collapsed": true
   },
   "outputs": [],
   "source": [
    "def report(pred_ls,true_ls):\n",
    "    mtx=np.array([[0,0],[0,0]])\n",
    "    for y,yp in zip(true_ls,pred_ls):\n",
    "        mtx[y][yp]+=1\n",
    "    return mtx/len(pred_ls) ,(mtx/len(pred_ls))[0][0]+(mtx/len(pred_ls))[1][1]"
   ]
  },
  {
   "cell_type": "code",
   "execution_count": 526,
   "metadata": {
    "collapsed": true
   },
   "outputs": [],
   "source": [
    "def naive(df,kf):\n",
    "    global lambdalist\n",
    "    mtx_ls=[]\n",
    "    accuracy_ls=[]\n",
    "    for X_train,y_train,X_test,y_test,train_full,test_full in split(df,kf):\n",
    "        mtx,ac=report(get_pred(train_full,test_full),test_full['y'].values)\n",
    "        mtx_ls.append(mtx)\n",
    "        accuracy_ls.append(ac)\n",
    "    mean_mtx=[[np.mean([x[0][0] for x in mtx_ls]),np.mean([x[0][1] for x in mtx_ls])],\n",
    "              [np.mean([x[1][0] for x in mtx_ls]),np.mean([x[1][1] for x in mtx_ls])]]\n",
    "    mean_ac=np.mean(accuracy_ls)\n",
    "    return mean_mtx,mean_ac"
   ]
  },
  {
   "cell_type": "markdown",
   "metadata": {},
   "source": [
    "## (a)"
   ]
  },
  {
   "cell_type": "markdown",
   "metadata": {},
   "source": [
    "#### Below is the matrix and the prediction accuracy"
   ]
  },
  {
   "cell_type": "code",
   "execution_count": 528,
   "metadata": {
    "collapsed": true
   },
   "outputs": [],
   "source": [
    "lambdalist=[]\n",
    "t,a=naive(df,10)"
   ]
  },
  {
   "cell_type": "code",
   "execution_count": 529,
   "metadata": {},
   "outputs": [
    {
     "name": "stdout",
     "output_type": "stream",
     "text": [
      "the matrix is  [0.4984782608695653, 0.1073913043478261] \n",
      "\t\t [0.02173913043478261, 0.37239130434782614]\n",
      "the accuracy is  0.8708695652173913\n"
     ]
    }
   ],
   "source": [
    "print('the matrix is ',t[0],'\\n\\t\\t',t[1])\n",
    "print('the accuracy is ',a)"
   ]
  },
  {
   "cell_type": "markdown",
   "metadata": {},
   "source": [
    "## (b)"
   ]
  },
  {
   "cell_type": "code",
   "execution_count": 533,
   "metadata": {
    "collapsed": true
   },
   "outputs": [],
   "source": [
    "lambda0list=[x[0] for x in lambdalist]\n",
    "lambda1list=[x[1] for x in lambdalist]\n",
    "\n",
    "class0=np.average(lambda0list, axis=0)\n",
    "class1=np.average(lambda1list, axis=0)\n"
   ]
  },
  {
   "cell_type": "code",
   "execution_count": 585,
   "metadata": {},
   "outputs": [
    {
     "data": {
      "image/png": "[encoded data removed]",
      "text/plain": [
       "<Figure size 1440x288 with 1 Axes>"
      ]
     },
     "metadata": {},
     "output_type": "display_data"
    }
   ],
   "source": [
    "# returns 10 evenly spaced samples from 0.1 to 2*PI\n",
    "x = df.columns[:-1]\n",
    "plt.figure(figsize=(20,4))\n",
    "\n",
    "markerline, stemlines, baseline = plt.stem(np.arange(1,55), class0, '-.',label='not spam')\n",
    "markerline, stemlines, baseline = plt.stem(np.arange(1,55), class1, '-.',label='spam')\n",
    "\n",
    "plt.setp(markerline,color='orange')\n",
    "plt.setp(baseline, linewidth=1)\n",
    "plt.xticks(np.arange(1,55))\n",
    "plt.legend()\n",
    "plt.show()\n"
   ]
  },
  {
   "cell_type": "markdown",
   "metadata": {},
   "source": [
    "#### As we can see in this graph, dimension 16 and 52 has a significant difference in a spam email and a nonspam email. According to the readme, dimension 16 is the word \"free\" and dimension 52 is the punctuation \"!\". We can see the occurrence frequency for \"free\" and \"!\" is significantly larger in spam emails than in non spam emails."
   ]
  },
  {
   "cell_type": "markdown",
   "metadata": {},
   "source": [
    "## (c)"
   ]
  },
  {
   "cell_type": "code",
   "execution_count": 609,
   "metadata": {
    "collapsed": true
   },
   "outputs": [],
   "source": [
    "def KNN_pred(train,test,k):\n",
    "    pred_ls=[]\n",
    "    for i in range(len(test)):\n",
    "        neighbors=pd.DataFrame(abs(train-test.values[i]).sum(axis=1)).sort_values(0).head(k).index.tolist()\n",
    "        if train.loc[neighbors,'y'].mean()>0.5:\n",
    "            pred_ls.append(1)\n",
    "        else:\n",
    "            pred_ls.append(0)\n",
    "    return pred_ls"
   ]
  },
  {
   "cell_type": "code",
   "execution_count": 610,
   "metadata": {
    "collapsed": true
   },
   "outputs": [],
   "source": [
    "def KNN(df,k):\n",
    "    mtx_ls=[]\n",
    "    accuracy_ls=[]\n",
    "    for X_train,y_train,X_test,y_test,train_full,test_full in split(df,kf,std=1):\n",
    "        mtx,ac=report(KNN_pred(train_full,test_full,k),test_full['y'].values)\n",
    "        mtx_ls.append(mtx)\n",
    "        accuracy_ls.append(ac)\n",
    "#         print(mtx,ac)\n",
    "    mean_mtx=[[np.mean([x[0][0] for x in mtx_ls]),np.mean([x[0][1] for x in mtx_ls])],\n",
    "              [np.mean([x[1][0] for x in mtx_ls]),np.mean([x[1][1] for x in mtx_ls])]]\n",
    "    mean_ac=np.mean(accuracy_ls)\n",
    "    return mean_mtx,mean_ac"
   ]
  },
  {
   "cell_type": "code",
   "execution_count": 612,
   "metadata": {
    "collapsed": true
   },
   "outputs": [],
   "source": [
    "ac_ls=[]\n",
    "for k in range(1,21):\n",
    "    _,ac=KNN(df,k)\n",
    "    ac_ls.append(ac)\n"
   ]
  },
  {
   "cell_type": "code",
   "execution_count": 602,
   "metadata": {},
   "outputs": [
    {
     "data": {
      "image/png": "[encoded data removed]",
      "text/plain": [
       "<Figure size 432x288 with 1 Axes>"
      ]
     },
     "metadata": {},
     "output_type": "display_data"
    }
   ],
   "source": [
    "plt.plot(np.arange(1,21),ac_ls)\n",
    "plt.xticks(np.arange(1,21))\n",
    "plt.xlabel('k')\n",
    "plt.show()"
   ]
  },
  {
   "cell_type": "markdown",
   "metadata": {},
   "source": [
    "#### For KNN, I think it is necessary to standarize the input features, because the model is mostly dependent on the scale of our features, so I scaled it and all the prediction is done after standarization."
   ]
  },
  {
   "cell_type": "markdown",
   "metadata": {},
   "source": [
    "## (d)"
   ]
  },
  {
   "cell_type": "code",
   "execution_count": 603,
   "metadata": {
    "collapsed": true
   },
   "outputs": [],
   "source": [
    "df_l=df.copy()\n",
    "df_l['Xc']=1\n",
    "newy=df_l['y'].replace(0,-1).values\n",
    "df_l.drop('y',axis=1,inplace=True)\n",
    "df_l['y']=newy"
   ]
  },
  {
   "cell_type": "code",
   "execution_count": 481,
   "metadata": {
    "collapsed": true
   },
   "outputs": [],
   "source": [
    "X_train,y_train,X_test,y_test,train_full,test_full = split(df_l,kf)[0]"
   ]
  },
  {
   "cell_type": "code",
   "execution_count": 482,
   "metadata": {
    "collapsed": true
   },
   "outputs": [],
   "source": [
    "test=test_full.copy()\n",
    "train=train_full.copy()"
   ]
  },
  {
   "cell_type": "code",
   "execution_count": 749,
   "metadata": {
    "collapsed": true
   },
   "outputs": [],
   "source": [
    "def sig(x):\n",
    "    try:\n",
    "        ans=exp(x)/(1+exp(x))\n",
    "    except OverflowError:\n",
    "        ans=1\n",
    "    return ans\n",
    "def sig2(x):\n",
    "    try:\n",
    "        ans=1/(2+exp(x)+1/exp(x))\n",
    "    except OverflowError:\n",
    "        ans=0\n",
    "    return ans\n",
    "\n",
    "def loss(mtx,w):\n",
    "    mysum=0\n",
    "    for r in range(len(train)):\n",
    "        yi=mtx[r][-1]\n",
    "        xi=mtx[r][:-1]\n",
    "        mysum+=log(sig(yi*dot(w,xi)))\n",
    "    return mysum    \n",
    "\n",
    "def delta(mtx,w):\n",
    "    mysum=np.zeros(len(w)) \n",
    "    for r in range(len(mtx)):\n",
    "        yi=mtx[r][-1]\n",
    "        xi=mtx[r][:-1]\n",
    "#         raise Exception()\n",
    "        mysum+=(1-sig(yi*dot(w,xi)))*yi*xi\n",
    "    return mysum          \n",
    "\n",
    "\n",
    "# def delta2(mtx,w):\n",
    "#     mysum=np.zeros(len(w)) \n",
    "#     for r in range(len(mtx)):\n",
    "#         yi=mtx[r][-1]\n",
    "#         xi=mtx[r][:-1]\n",
    "#         mysum+=-sig2(yi*dot(w,xi))*(xi*xi)\n",
    "#     return mysum          \n",
    "\n",
    "\n",
    "def delta2(mtx,w):\n",
    "    mysum=np.zeros((len(w),len(w))) \n",
    "    for r in range(len(mtx)):\n",
    "        yi=mtx[r][-1]\n",
    "        xi=mtx[r][:-1]\n",
    "        mysum+=-sig2(yi*dot(w,xi))*dot(np.transpose([xi]),[xi])\n",
    "    return mysum  \n",
    "\n",
    "def get_w(train,eta):\n",
    "    w=np.zeros(train.shape[1]-1) \n",
    "    loss_ls=[]\n",
    "    for i in range(1000):\n",
    "        w=w+eta*delta(train.values,w)\n",
    "        loss_ls.append(loss(train.values,w))\n",
    "    return w,loss_ls\n",
    "\n",
    "def get_w2(train,eta):\n",
    "    w=np.zeros(train.shape[1]-1) \n",
    "    loss_ls=[]\n",
    "    for i in range(100):\n",
    "        w=w-dot(inv(delta2(train.values,w)),delta(train.values,w))\n",
    "        loss_ls.append(loss(train.values,w))\n",
    "    return w,loss_ls\n",
    "\n",
    "def logit_class(x):\n",
    "    if x>0.5:\n",
    "        return 1\n",
    "    else:\n",
    "        return -1"
   ]
  },
  {
   "cell_type": "code",
   "execution_count": 751,
   "metadata": {},
   "outputs": [
    {
     "data": {
      "image/png": "[encoded data removed]",
      "text/plain": [
       "<Figure size 1080x576 with 1 Axes>"
      ]
     },
     "metadata": {},
     "output_type": "display_data"
    }
   ],
   "source": [
    "# def logit_plot():\n",
    "plt.figure(figsize=(15,8))\n",
    "\n",
    "for X_train,y_train,X_test,y_test,train_full,test_full in split(df_l,kf):\n",
    "    test=test_full.copy()\n",
    "    train=train_full.copy()\n",
    "    eta=0.01/4600\n",
    "    _,loss_ls=get_w(train,eta)\n",
    "    plt.plot(np.arange(1000),loss_ls)\n",
    "plt.show()\n",
    "\n",
    "        "
   ]
  },
  {
   "cell_type": "markdown",
   "metadata": {},
   "source": [
    "## (e)"
   ]
  },
  {
   "cell_type": "markdown",
   "metadata": {},
   "source": [
    "We take the first derivative of $L'$ and let it equal to 0:  Let $\\frac{\\partial L^\\prime\\left(w\\right)}{\\partial w}=\\mathrm{\\nabla L}\\left(w_t\\right)+\\mathrm{\\nabla}^2L\\left(w_t\\right)\\left(w-w_t\\right)=0$Then we solve for $w_{t+1}$ and get the following update$w_{t+1}=\\arg_w\\max L'=w_{t}-\\Delta^2{L}^{-1}\\Delta{L}$ where $\\Delta{L}=\\sum_{i=1}^{n}\\frac{y_i x_i}{1+e^{y_i x_i w_t}}$ and $\\Delta^2{L}=-\\sum_{i=1}^{n}\\frac{e^{y_i x_i w_t}}{(1+e^{y_i x_i w_t})^2}x_ix_i^T$ which is the hessia matrix. $x_i$is the ith row vector"
   ]
  },
  {
   "cell_type": "code",
   "execution_count": 750,
   "metadata": {},
   "outputs": [
    {
     "data": {
      "image/png": "[encoded data removed]",
      "text/plain": [
       "<Figure size 1080x576 with 1 Axes>"
      ]
     },
     "metadata": {},
     "output_type": "display_data"
    }
   ],
   "source": [
    "X_nm= df_l.columns[:-1]\n",
    "plt.figure(figsize=(15,8))\n",
    "mtx_ls=[]\n",
    "ac_ls=[]\n",
    "\n",
    "for X_train,y_train,X_test,y_test,train_full,test_full in split(df_l,kf):\n",
    "    \n",
    "    test=test_full.copy()\n",
    "    train=train_full.copy()\n",
    "    eta=0.01\n",
    "    w2,loss_ls=get_w2(train,eta)\n",
    "    ac_mtx=np.array([[0,0],[0,0]])\n",
    "    for x,truey in zip(X_test.values,y_test.values):\n",
    "        pred=logit_class(sig(dot(x,w2)))\n",
    "        if truey==-1:\n",
    "            truey=0\n",
    "        if pred==-1:\n",
    "            pred=0\n",
    "        ac_mtx[truey][pred]+=1\n",
    "    ac=ac_mtx[0][0]+ac_mtx[1][1]\n",
    "    mtx_ls.append(ac_mtx/X_test.shape[0])\n",
    "    ac_ls.append(ac/X_test.shape[0])\n",
    "    plt.plot(np.arange(100),loss_ls)\n",
    "    \n",
    "plt.show()"
   ]
  },
  {
   "cell_type": "markdown",
   "metadata": {},
   "source": [
    "## (f)"
   ]
  },
  {
   "cell_type": "code",
   "execution_count": 752,
   "metadata": {},
   "outputs": [
    {
     "name": "stdout",
     "output_type": "stream",
     "text": [
      "the matrix is  [[0.57456522 0.03130435]\n",
      " [0.04630435 0.34782609]]\n",
      "the accuracy is  0.922391304347826\n"
     ]
    }
   ],
   "source": [
    "print('the matrix is ',np.average(mtx_ls,axis=0))\n",
    "print('the accuracy is ',np.mean(ac_ls))"
   ]
  }
 ],
 "metadata": {
  "hide_input": false,
  "kernelspec": {
   "display_name": "Python 3",
   "language": "python",
   "name": "python3"
  },
  "language_info": {
   "codemirror_mode": {
    "name": "ipython",
    "version": 3
   },
   "file_extension": ".py",
   "mimetype": "text/x-python",
   "name": "python",
   "nbconvert_exporter": "python",
   "pygments_lexer": "ipython3",
   "version": "3.6.5"
  },
  "latex_envs": {
   "LaTeX_envs_menu_present": true,
   "autoclose": false,
   "autocomplete": true,
   "bibliofile": "biblio.bib",
   "cite_by": "apalike",
   "current_citInitial": 1,
   "eqLabelWithNumbers": true,
   "eqNumInitial": 1,
   "hotkeys": {
    "equation": "Ctrl-E",
    "itemize": "Ctrl-I"
   },
   "labels_anchors": false,
   "latex_user_defs": false,
   "report_style_numbering": false,
   "user_envs_cfg": false
  },
  "nbTranslate": {
   "displayLangs": [
    "*"
   ],
   "hotkey": "alt-t",
   "langInMainMenu": true,
   "sourceLang": "en",
   "targetLang": "fr",
   "useGoogleTranslate": true
  },
  "toc": {
   "base_numbering": 1,
   "nav_menu": {},
   "number_sections": true,
   "sideBar": true,
   "skip_h1_title": false,
   "title_cell": "Table of Contents",
   "title_sidebar": "Contents",
   "toc_cell": false,
   "toc_position": {},
   "toc_section_display": true,
   "toc_window_display": false
  },
  "varInspector": {
   "cols": {
    "lenName": 16,
    "lenType": 16,
    "lenVar": 40
   },
   "kernels_config": {
    "python": {
     "delete_cmd_postfix": "",
     "delete_cmd_prefix": "del ",
     "library": "var_list.py",
     "varRefreshCmd": "print(var_dic_list())"
    },
    "r": {
     "delete_cmd_postfix": ") ",
     "delete_cmd_prefix": "rm(",
     "library": "var_list.r",
     "varRefreshCmd": "cat(var_dic_list()) "
    }
   },
   "types_to_exclude": [
    "module",
    "function",
    "builtin_function_or_method",
    "instance",
    "_Feature"
   ],
   "window_display": false
  }
 },
 "nbformat": 4,
 "nbformat_minor": 2
}
